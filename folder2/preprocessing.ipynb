{
 "cells": [
  {
   "cell_type": "code",
   "execution_count": 22,
   "id": "b7b2d445",
   "metadata": {},
   "outputs": [],
   "source": [
    "import numpy as np\n",
    "import matplotlib.pyplot as plt\n",
    "import os\n",
    "import cv2\n",
    "import random\n",
    "DIR='competition_data'\n",
    "IMG_DIR='competition_data\\images_new_selected'\n",
    "MASK_DIR='competition_data\\masks_new_selected'\n",
    "training_data=[]\n",
    "mask_data=[]\n",
    "def train_data():\n",
    "    for img in os.listdir(IMG_DIR):\n",
    "        try:\n",
    "            img_array = cv2.resize(cv2.imread(os.path.join(IMG_DIR,img),cv2.IMREAD_GRAYSCALE), (128,128), interpolation=cv2.INTER_LINEAR)\n",
    "            \n",
    "            mask_array=cv2.resize(cv2.imread(os.path.join(MASK_DIR,img),cv2.IMREAD_GRAYSCALE), (128,128), interpolation=cv2.INTER_LINEAR)\n",
    "           \n",
    "            training_data.append(img_array)\n",
    "            mask_data.append(mask_array)\n",
    "        except Exception as e:\n",
    "            pass\n",
    "train_data()"
   ]
  },
  {
   "cell_type": "code",
   "execution_count": 23,
   "id": "00b7bcd7",
   "metadata": {},
   "outputs": [],
   "source": [
    "training_data=np.array(training_data)\n",
    "mask_data=np.array(mask_data)"
   ]
  },
  {
   "cell_type": "code",
   "execution_count": 24,
   "id": "a856af32",
   "metadata": {},
   "outputs": [],
   "source": [
    "import pickle\n",
    "with open('training_data_new', 'wb') as f:\n",
    "    pickle.dump(training_data, f)\n",
    "\n",
    "with open('mask_data_new', 'wb') as f:\n",
    "    pickle.dump(mask_data, f)"
   ]
  },
  {
   "cell_type": "code",
   "execution_count": null,
   "id": "94b7b0e1",
   "metadata": {},
   "outputs": [],
   "source": []
  },
  {
   "cell_type": "code",
   "execution_count": null,
   "id": "38345724",
   "metadata": {},
   "outputs": [],
   "source": []
  },
  {
   "cell_type": "code",
   "execution_count": null,
   "id": "d443c6a0",
   "metadata": {},
   "outputs": [],
   "source": []
  },
  {
   "cell_type": "code",
   "execution_count": null,
   "id": "a7997c4c",
   "metadata": {},
   "outputs": [],
   "source": []
  }
 ],
 "metadata": {
  "kernelspec": {
   "display_name": "Python 3 (ipykernel)",
   "language": "python",
   "name": "python3"
  },
  "language_info": {
   "codemirror_mode": {
    "name": "ipython",
    "version": 3
   },
   "file_extension": ".py",
   "mimetype": "text/x-python",
   "name": "python",
   "nbconvert_exporter": "python",
   "pygments_lexer": "ipython3",
   "version": "3.9.7"
  }
 },
 "nbformat": 4,
 "nbformat_minor": 5
}
